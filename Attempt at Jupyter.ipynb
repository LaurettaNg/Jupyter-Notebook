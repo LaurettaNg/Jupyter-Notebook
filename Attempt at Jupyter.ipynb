{
    "cells": [
        {
            "cell_type": "markdown",
            "metadata": {
                "collapsed": true
            },
            "source": "# My Jupyter Notebook on IBM Watson Studio"
        },
        {
            "cell_type": "markdown",
            "metadata": {},
            "source": "# LAURETTA NGERE\n## Data Specialist"
        },
        {
            "cell_type": "markdown",
            "metadata": {},
            "source": "### _Data is the heart of what I do_"
        },
        {
            "cell_type": "markdown",
            "metadata": {},
            "source": "### This is my first attempt at using Jupyter Notebook"
        },
        {
            "cell_type": "markdown",
            "metadata": {},
            "source": "### The top 3 data science languages are :\n- Python\n- R\n- SQL"
        },
        {
            "cell_type": "markdown",
            "metadata": {},
            "source": "### Data science libraries include:\n- Matplotlib\n- Tensorflow\n- Vegas\n- Pandas\n- Ggplot2"
        },
        {
            "cell_type": "markdown",
            "metadata": {},
            "source": "### Here is a table of Data Science Tools I will use for various tasks\n | Task | Tool |\n |:------:|:-----:|\n | Data Management | Microsoft SQL server |\n | Data Integration and Transformation | Watson Studio Desktop | \n | Data Visualization | Tableau |\n | Development Environment | Watson Studio Desktop| \n | Model Building | SPSS |\n "
        },
        {
            "cell_type": "markdown",
            "metadata": {},
            "source": "### Here are examples of arithmetic expressions\n - Addition +\n - Subtraction -\n - Multiplication *\n - Division /"
        },
        {
            "cell_type": "markdown",
            "metadata": {},
            "source": "### Example : What is the total number of sleep hours I get in 2 weeks at 5 hours per day?"
        },
        {
            "cell_type": "code",
            "execution_count": 2,
            "metadata": {},
            "outputs": [
                {
                    "data": {
                        "text/plain": "70"
                    },
                    "execution_count": 2,
                    "metadata": {},
                    "output_type": "execute_result"
                }
            ],
            "source": "(5+5+5+5+5+5+5)*2"
        },
        {
            "cell_type": "markdown",
            "metadata": {},
            "source": "### Example : What is the total number of sleep hours I got 3 weeks ago?"
        },
        {
            "cell_type": "code",
            "execution_count": 1,
            "metadata": {},
            "outputs": [
                {
                    "data": {
                        "text/plain": "46"
                    },
                    "execution_count": 1,
                    "metadata": {},
                    "output_type": "execute_result"
                }
            ],
            "source": "6+7+5+8+7+8+5"
        },
        {
            "cell_type": "markdown",
            "metadata": {},
            "source": "- Three weeks ago, I got a total of 46 hours of sleep \n- The minimum recommended hours of sleep is 6 - 8 hours daily, which is 42 - 56 hours weekly\n  *** \n> I will target nothing less than 6 hours of sleep henceforth"
        }
    ],
    "metadata": {
        "kernelspec": {
            "display_name": "Python 3.10",
            "language": "python",
            "name": "python3"
        },
        "language_info": {
            "codemirror_mode": {
                "name": "ipython",
                "version": 3
            },
            "file_extension": ".py",
            "mimetype": "text/x-python",
            "name": "python",
            "nbconvert_exporter": "python",
            "pygments_lexer": "ipython3",
            "version": "3.10.9"
        }
    },
    "nbformat": 4,
    "nbformat_minor": 1
}